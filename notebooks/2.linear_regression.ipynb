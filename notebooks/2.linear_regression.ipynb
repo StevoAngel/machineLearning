{
 "cells": [
  {
   "cell_type": "code",
   "execution_count": 23,
   "id": "8d3fc5e1",
   "metadata": {},
   "outputs": [],
   "source": [
    "from sklearn.datasets import make_regression"
   ]
  },
  {
   "cell_type": "code",
   "execution_count": 24,
   "id": "7f65ab43",
   "metadata": {},
   "outputs": [],
   "source": [
    "X, y = make_regression(n_samples = 150, n_features = 1, random_state = 42, noise = 50)"
   ]
  },
  {
   "cell_type": "code",
   "execution_count": 25,
   "id": "d59cc2d7",
   "metadata": {},
   "outputs": [
    {
     "data": {
      "text/plain": [
       "(150, 1)"
      ]
     },
     "execution_count": 25,
     "metadata": {},
     "output_type": "execute_result"
    }
   ],
   "source": [
    "X.shape"
   ]
  },
  {
   "cell_type": "code",
   "execution_count": 26,
   "id": "d1b74e25",
   "metadata": {},
   "outputs": [
    {
     "data": {
      "text/plain": [
       "(150,)"
      ]
     },
     "execution_count": 26,
     "metadata": {},
     "output_type": "execute_result"
    }
   ],
   "source": [
    "y.shape"
   ]
  },
  {
   "cell_type": "code",
   "execution_count": 27,
   "id": "92d47971",
   "metadata": {},
   "outputs": [
    {
     "data": {
      "text/plain": [
       "<matplotlib.collections.PathCollection at 0x174df6e8390>"
      ]
     },
     "execution_count": 27,
     "metadata": {},
     "output_type": "execute_result"
    },
    {
     "data": {
      "image/png": "[encoded data removed]",
      "text/plain": [
       "<Figure size 640x480 with 1 Axes>"
      ]
     },
     "metadata": {},
     "output_type": "display_data"
    }
   ],
   "source": [
    "import matplotlib.pyplot as plt\n",
    "\n",
    "plt.scatter(X,y)"
   ]
  },
  {
   "cell_type": "code",
   "execution_count": 28,
   "id": "ac661578",
   "metadata": {},
   "outputs": [],
   "source": [
    "from sklearn.model_selection import train_test_split\n",
    "\n",
    "X_train, X_test, y_train, y_test = train_test_split(X, y, test_size = 0.2, random_state = 42)"
   ]
  },
  {
   "cell_type": "code",
   "execution_count": 29,
   "id": "72c281e4",
   "metadata": {},
   "outputs": [
    {
     "data": {
      "text/plain": [
       "((150, 1), (120, 1), (30, 1))"
      ]
     },
     "execution_count": 29,
     "metadata": {},
     "output_type": "execute_result"
    }
   ],
   "source": [
    "X.shape, X_train.shape, X_test.shape,"
   ]
  },
  {
   "cell_type": "markdown",
   "id": "41f4398c",
   "metadata": {},
   "source": [
    "$$\n",
    "f(x) = h(x) \\approx y\n",
    "$$"
   ]
  },
  {
   "cell_type": "code",
   "execution_count": null,
   "id": "28379819",
   "metadata": {},
   "outputs": [],
   "source": [
    "import numpy as np\n",
    "\n",
    "class LinearReg:\n",
    "    def __init__(self, lr = 0.01, epochs = 100):\n",
    "        self.lr = lr\n",
    "        self.epochs = epochs\n",
    "        self.weights = None\n",
    "        self.bias = None\n",
    "\n",
    "    def fit(self, X, y, debug = False):\n",
    "        # M is the sample size\n",
    "        # N is the feature size\n",
    "\n",
    "        m, n =  X.shape\n",
    "\n",
    "        self.weights = np.random.rand(n, 1) # n = rows, 1 = cols\n",
    "        self.bias = np.random.rand(1) # Escalar value\n",
    "\n",
    "        y = y.reshape(m, 1) # Vector columna en lugar de fila\n",
    "\n",
    "        losses = list()\n",
    "        b_list = list()\n",
    "        w_list = list()\n",
    "\n",
    "        for epoch in range(self.epochs):\n",
    "            # Calculate prediction\n",
    "            y_hat = np.dot(X, self.weights) + self.bias\n",
    "\n",
    "            # Save current loss\n",
    "            loss = np.mean((y_hat - y)**2)\n",
    "\n",
    "            losses.append(loss)\n",
    "\n",
    "            # Calculate gradient of MSE\n",
    "            dw = (-2/m) * np.dot(X.T, (y - y_hat))\n",
    "            db = (-2/m) * np.sum(y - y_hat)\n",
    "\n",
    "            # Update params\n",
    "            self.weights = self.weights - self.lr * dw\n",
    "            self.bias = self.bias - self.lr * db\n",
    "\n",
    "            # Save the params\n",
    "            w_list.append(self.weights)\n",
    "            b_list.append(self.bias)\n",
    "\n",
    "            print(f\"epoch: {epoch}, loss: {loss}, weight: {self.weights}, bias: {self.bias}\")\n",
    "\n",
    "    def predict(self, X):\n",
    "        return np.dot(X, self.weights) + self.bias\n"
   ]
  },
  {
   "cell_type": "code",
   "execution_count": 31,
   "id": "9a8adc74",
   "metadata": {},
   "outputs": [
    {
     "name": "stdout",
     "output_type": "stream",
     "text": [
      "epoch: 0, loss: 11315.627013005229, weight: [[1.93208091]], bias: [-0.00935608]\n",
      "epoch: 1, loss: 10978.567220654782, weight: [[3.7413369]], bias: [-0.02748406]\n",
      "epoch: 2, loss: 10654.339148446674, weight: [[5.51585503]], bias: [-0.04226869]\n",
      "epoch: 3, loss: 10342.450743110141, weight: [[7.2563072]], bias: [-0.05383407]\n",
      "epoch: 4, loss: 10042.42895949403, weight: [[8.96335223]], bias: [-0.0623007]\n",
      "epoch: 5, loss: 9753.819020842502, weight: [[10.63763608]], bias: [-0.0677856]\n",
      "epoch: 6, loss: 9476.183708068302, weight: [[12.27979216]], bias: [-0.07040237]\n",
      "epoch: 7, loss: 9209.102676878781, weight: [[13.89044149]], bias: [-0.07026132]\n",
      "epoch: 8, loss: 8952.17180165542, weight: [[15.47019305]], bias: [-0.06746951]\n",
      "epoch: 9, loss: 8705.002545031184, weight: [[17.01964393]], bias: [-0.06213085]\n",
      "epoch: 10, loss: 8467.221352152095, weight: [[18.5393796]], bias: [-0.05434621]\n",
      "epoch: 11, loss: 8238.469068649612, weight: [[20.02997414]], bias: [-0.04421346]\n",
      "epoch: 12, loss: 8018.40038138899, weight: [[21.49199043]], bias: [-0.03182757]\n",
      "epoch: 13, loss: 7806.683281096044, weight: [[22.92598044]], bias: [-0.01728069]\n",
      "epoch: 14, loss: 7602.998546000221, weight: [[24.33248536]], bias: [-0.00066222]\n",
      "epoch: 15, loss: 7407.039245666181, weight: [[25.71203587]], bias: [0.01794114]\n",
      "epoch: 16, loss: 7218.510264218868, weight: [[27.06515232]], bias: [0.03844527]\n",
      "epoch: 17, loss: 7037.127842198589, weight: [[28.39234495]], bias: [0.06076861]\n",
      "epoch: 18, loss: 6862.619136312915, weight: [[29.69411405]], bias: [0.08483207]\n",
      "epoch: 19, loss: 6694.721796381202, weight: [[30.97095022]], bias: [0.11055896]\n",
      "epoch: 20, loss: 6533.183558795528, weight: [[32.22333449]], bias: [0.13787492]\n",
      "epoch: 21, loss: 6377.761855848521, weight: [[33.45173856]], bias: [0.1667079]\n",
      "epoch: 22, loss: 6228.223440304366, weight: [[34.65662495]], bias: [0.19698805]\n",
      "epoch: 23, loss: 6084.344024613893, weight: [[35.8384472]], bias: [0.22864767]\n",
      "epoch: 24, loss: 5945.907934198436, weight: [[36.99765004]], bias: [0.26162119]\n",
      "epoch: 25, loss: 5812.707774249806, weight: [[38.13466955]], bias: [0.29584504]\n",
      "epoch: 26, loss: 5684.544109515718, weight: [[39.24993335]], bias: [0.33125769]\n",
      "epoch: 27, loss: 5561.225156560881, weight: [[40.34386074]], bias: [0.36779951]\n",
      "epoch: 28, loss: 5442.566488014159, weight: [[41.41686291]], bias: [0.40541277]\n",
      "epoch: 29, loss: 5328.390748331575, weight: [[42.46934302]], bias: [0.44404155]\n",
      "epoch: 30, loss: 5218.527380623476, weight: [[43.50169645]], bias: [0.48363175]\n",
      "epoch: 31, loss: 5112.812364112043, weight: [[44.51431088]], bias: [0.52413097]\n",
      "epoch: 32, loss: 5011.087961802444, weight: [[45.50756646]], bias: [0.56548852]\n",
      "epoch: 33, loss: 4913.20247796739, weight: [[46.48183599]], bias: [0.60765533]\n",
      "epoch: 34, loss: 4819.01002506064, weight: [[47.43748503]], bias: [0.65058393]\n",
      "epoch: 35, loss: 4728.370299690189, weight: [[48.37487202]], bias: [0.69422842]\n",
      "epoch: 36, loss: 4641.148367296394, weight: [[49.29434849]], bias: [0.73854438]\n",
      "epoch: 37, loss: 4557.2144551943475, weight: [[50.19625912]], bias: [0.78348889]\n",
      "epoch: 38, loss: 4476.4437536531805, weight: [[51.08094193]], bias: [0.82902042]\n",
      "epoch: 39, loss: 4398.7162246979, weight: [[51.94872838]], bias: [0.87509887]\n",
      "epoch: 40, loss: 4323.916418331768, weight: [[52.7999435]], bias: [0.92168544]\n",
      "epoch: 41, loss: 4251.933295889076, weight: [[53.63490603]], bias: [0.96874268]\n",
      "epoch: 42, loss: 4182.660060239673, weight: [[54.45392852]], bias: [1.01623439]\n",
      "epoch: 43, loss: 4115.993992577471, weight: [[55.25731747]], bias: [1.06412563]\n",
      "epoch: 44, loss: 4051.8362955358048, weight: [[56.04537345]], bias: [1.11238265]\n",
      "epoch: 45, loss: 3990.091942382528, weight: [[56.81839121]], bias: [1.16097287]\n",
      "epoch: 46, loss: 3930.6695320575354, weight: [[57.57665978]], bias: [1.20986485]\n",
      "epoch: 47, loss: 3873.4811498246786, weight: [[58.3204626]], bias: [1.25902826]\n",
      "epoch: 48, loss: 3818.442233319038, weight: [[59.05007762]], bias: [1.30843383]\n",
      "epoch: 49, loss: 3765.4714437790944, weight: [[59.76577741]], bias: [1.35805335]\n",
      "epoch: 50, loss: 3714.4905422616253, weight: [[60.46782928]], bias: [1.40785962]\n",
      "epoch: 51, loss: 3665.4242706451164, weight: [[61.15649534]], bias: [1.4578264]\n",
      "epoch: 52, loss: 3618.2002372350476, weight: [[61.83203264]], bias: [1.50792845]\n",
      "epoch: 53, loss: 3572.7488067917916, weight: [[62.49469327]], bias: [1.55814141]\n",
      "epoch: 54, loss: 3529.0029948088713, weight: [[63.14472442]], bias: [1.60844187]\n",
      "epoch: 55, loss: 3486.8983658760876, weight: [[63.78236853]], bias: [1.65880726]\n",
      "epoch: 56, loss: 3446.37293596852, weight: [[64.40786332]], bias: [1.70921588]\n",
      "epoch: 57, loss: 3407.3670785086265, weight: [[65.02144194]], bias: [1.75964684]\n",
      "epoch: 58, loss: 3369.823434054679, weight: [[65.62333301]], bias: [1.81008007]\n",
      "epoch: 59, loss: 3333.6868234744975, weight: [[66.21376075]], bias: [1.86049627]\n",
      "epoch: 60, loss: 3298.904164468984, weight: [[66.79294504]], bias: [1.91087688]\n",
      "epoch: 61, loss: 3265.424391315265, weight: [[67.36110151]], bias: [1.9612041]\n",
      "epoch: 62, loss: 3233.198377704342, weight: [[67.91844162]], bias: [2.01146084]\n",
      "epoch: 63, loss: 3202.178862553048, weight: [[68.46517276]], bias: [2.06163066]\n",
      "epoch: 64, loss: 3172.320378674821, weight: [[69.00149829]], bias: [2.11169785]\n",
      "epoch: 65, loss: 3143.579184198293, weight: [[69.52761767]], bias: [2.1616473]\n",
      "epoch: 66, loss: 3115.9131966270884, weight: [[70.0437265]], bias: [2.21146455]\n",
      "epoch: 67, loss: 3089.2819294383253, weight: [[70.55001659]], bias: [2.26113576]\n",
      "epoch: 68, loss: 3063.646431121376, weight: [[71.04667606]], bias: [2.31064768]\n",
      "epoch: 69, loss: 3038.969226562265, weight: [[71.5338894]], bias: [2.35998761]\n",
      "epoch: 70, loss: 3015.21426068277, weight: [[72.01183753]], bias: [2.40914344]\n",
      "epoch: 71, loss: 2992.3468442468716, weight: [[72.4806979]], bias: [2.45810359]\n",
      "epoch: 72, loss: 2970.333601750567, weight: [[72.94064451]], bias: [2.50685699]\n",
      "epoch: 73, loss: 2949.14242131439, weight: [[73.39184802]], bias: [2.5553931]\n",
      "epoch: 74, loss: 2928.7424065010646, weight: [[73.83447581]], bias: [2.60370185]\n",
      "epoch: 75, loss: 2909.1038299838233, weight: [[74.268692]], bias: [2.65177367]\n",
      "epoch: 76, loss: 2890.1980889937363, weight: [[74.69465757]], bias: [2.69959943]\n",
      "epoch: 77, loss: 2871.99766247727, weight: [[75.11253039]], bias: [2.74717047]\n",
      "epoch: 78, loss: 2854.4760698979167, weight: [[75.5224653]], bias: [2.79447854]\n",
      "epoch: 79, loss: 2837.6078316183643, weight: [[75.92461413]], bias: [2.84151583]\n",
      "epoch: 80, loss: 2821.3684308020756, weight: [[76.3191258]], bias: [2.88827493]\n",
      "epoch: 81, loss: 2805.7342767756304, weight: [[76.70614637]], bias: [2.93474881]\n",
      "epoch: 82, loss: 2790.6826697953666, weight: [[77.08581906]], bias: [2.98093083]\n",
      "epoch: 83, loss: 2776.191767164111, weight: [[77.45828437]], bias: [3.02681474]\n",
      "epoch: 84, loss: 2762.240550645883, weight: [[77.82368005]], bias: [3.07239462]\n",
      "epoch: 85, loss: 2748.808795128492, weight: [[78.18214123]], bias: [3.11766489]\n",
      "epoch: 86, loss: 2735.8770384858594, weight: [[78.53380043]], bias: [3.16262033]\n",
      "epoch: 87, loss: 2723.426552593834, weight: [[78.87878761]], bias: [3.20725604]\n",
      "epoch: 88, loss: 2711.4393154549875, weight: [[79.21723025]], bias: [3.2515674]\n",
      "epoch: 89, loss: 2699.8979843896736, weight: [[79.54925335]], bias: [3.29555013]\n",
      "epoch: 90, loss: 2688.785870252256, weight: [[79.87497952]], bias: [3.33920022]\n",
      "epoch: 91, loss: 2678.086912633007, weight: [[80.19452901]], bias: [3.38251395]\n",
      "epoch: 92, loss: 2667.7856560077303, weight: [[80.50801977]], bias: [3.42548787]\n",
      "epoch: 93, loss: 2657.8672267986126, weight: [[80.81556745]], bias: [3.46811879]\n",
      "epoch: 94, loss: 2648.317311311243, weight: [[81.1172855]], bias: [3.51040379]\n",
      "epoch: 95, loss: 2639.122134514076, weight: [[81.41328519]], bias: [3.55234018]\n",
      "epoch: 96, loss: 2630.2684396279537, weight: [[81.70367564]], bias: [3.59392551]\n",
      "epoch: 97, loss: 2621.74346849451, weight: [[81.98856388]], bias: [3.63515755]\n",
      "epoch: 98, loss: 2613.534942693549, weight: [[82.26805487]], bias: [3.67603432]\n",
      "epoch: 99, loss: 2605.631045380587, weight: [[82.54225157]], bias: [3.71655402]\n"
     ]
    }
   ],
   "source": [
    "model = LinearReg()\n",
    "model.fit(X_train, y_train)"
   ]
  },
  {
   "cell_type": "code",
   "execution_count": 32,
   "id": "bc330404",
   "metadata": {},
   "outputs": [
    {
     "data": {
      "image/png": "[encoded data removed]",
      "text/plain": [
       "<Figure size 640x480 with 1 Axes>"
      ]
     },
     "metadata": {},
     "output_type": "display_data"
    }
   ],
   "source": [
    "y_pred = model.predict(X_test)\n",
    "\n",
    "plt.scatter(X_test, y_test, color='blue', label='Real data')\n",
    "plt.plot(X_test, y_pred, color='red', label='Prediction')\n",
    "plt.xlabel('X')\n",
    "plt.ylabel('y')\n",
    "plt.title('Linear Reg')\n",
    "plt.legend()\n",
    "plt.show()"
   ]
  },
  {
   "cell_type": "code",
   "execution_count": 33,
   "id": "e3152a53",
   "metadata": {},
   "outputs": [
    {
     "name": "stdout",
     "output_type": "stream",
     "text": [
      "MSE del test: 2365.16526044946\n"
     ]
    }
   ],
   "source": [
    "mse_test = np.mean((y_test.reshape(-1,1) - y_pred)**2)\n",
    "print(\"MSE del test:\", mse_test)"
   ]
  }
 ],
 "metadata": {
  "kernelspec": {
   "display_name": "Python 3",
   "language": "python",
   "name": "python3"
  },
  "language_info": {
   "codemirror_mode": {
    "name": "ipython",
    "version": 3
   },
   "file_extension": ".py",
   "mimetype": "text/x-python",
   "name": "python",
   "nbconvert_exporter": "python",
   "pygments_lexer": "ipython3",
   "version": "3.11.13"
  }
 },
 "nbformat": 4,
 "nbformat_minor": 5
}
